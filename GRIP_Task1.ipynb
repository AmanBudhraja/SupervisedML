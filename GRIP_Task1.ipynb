{
  "nbformat": 4,
  "nbformat_minor": 0,
  "metadata": {
    "colab": {
      "name": "GRIP_Task1.ipynb",
      "provenance": [],
      "collapsed_sections": []
    },
    "kernelspec": {
      "name": "python3",
      "display_name": "Python 3"
    }
  },
  "cells": [
    {
      "cell_type": "markdown",
      "metadata": {
        "id": "w5nha0AlPj9O"
      },
      "source": [
        "<h2><b>Prediction using Supervised ML</h2></b> \n",
        "<p>Predict the percentage of a student based on the number of study hours.</p>\n",
        "--By Aman Budhraja"
      ]
    },
    {
      "cell_type": "code",
      "metadata": {
        "id": "tPiT3VrWA7DB"
      },
      "source": [
        "#Importing packages and class\n",
        "#Using seaborn and matplotlib for data visualization\n",
        "import numpy as np  \n",
        "import pandas as pd\n",
        "import seaborn as sns                                       \n",
        "from sklearn import metrics\n",
        "import matplotlib.pyplot as plt\n",
        "from sklearn.model_selection import train_test_split\n",
        "from sklearn.linear_model import LinearRegression as LR \n",
        "%matplotlib inline"
      ],
      "execution_count": null,
      "outputs": []
    },
    {
      "cell_type": "code",
      "metadata": {
        "id": "M94KW4s0CoWk"
      },
      "source": [
        "#Importing the dataset\n",
        "data_url = \"http://bit.ly/w-data\"\n",
        "data_read = pd.read_csv(data_url)\n",
        "\n",
        "#Displaying the first 5 rows of the dataset\n",
        "print(\"data imported:\")\n",
        "data_read.head()"
      ],
      "execution_count": null,
      "outputs": []
    },
    {
      "cell_type": "code",
      "metadata": {
        "id": "6Surooi0EgVS"
      },
      "source": [
        "#Initial analysis of the dataset\n",
        "data_read.describe()"
      ],
      "execution_count": null,
      "outputs": []
    },
    {
      "cell_type": "code",
      "metadata": {
        "id": "a6p0KN-WXnBk"
      },
      "source": [
        "#Checking if the dataset contains any null value for any of the column present\n",
        "data_read.info()"
      ],
      "execution_count": null,
      "outputs": []
    },
    {
      "cell_type": "code",
      "metadata": {
        "id": "QbrnASr8DFVt"
      },
      "source": [
        "#Visualizing the dataset to analyze the relationship between \"Hours\" and \"Scores\"\n",
        "sns.scatterplot(x=data_read[\"Hours\"], y=data_read[\"Scores\"])\n",
        "title = plt.title(\"Marks obtained by a student based on the no. of study hours\")\n",
        "plt.setp(title,color ='w')\n",
        "plt.show()"
      ],
      "execution_count": null,
      "outputs": []
    },
    {
      "cell_type": "code",
      "metadata": {
        "id": "B-W7zGnCFUVn"
      },
      "source": [
        "#Splitting the dataset into Train and Test\n",
        "x=data_read['Hours'].values.reshape(-1,1)\n",
        "y=data_read['Scores'].values.reshape(-1,1)\n",
        "train_x, test_x, train_y, test_y = train_test_split(x, y, test_size = 0.2, random_state=0)"
      ],
      "execution_count": null,
      "outputs": []
    },
    {
      "cell_type": "code",
      "metadata": {
        "id": "MxmzkhSkFkVl"
      },
      "source": [
        "#Linear Regression model using Scikit-Learn package\n",
        "model = LR()\n",
        "model.fit(train_x, train_y)"
      ],
      "execution_count": null,
      "outputs": []
    },
    {
      "cell_type": "code",
      "metadata": {
        "id": "-Zqr9DAcF0nF"
      },
      "source": [
        "#Model prediction\n",
        "predict_y= model.predict(test_x)"
      ],
      "execution_count": null,
      "outputs": []
    },
    {
      "cell_type": "code",
      "metadata": {
        "id": "v15qGt5iGpBZ"
      },
      "source": [
        "#Visualization for the linear regression model on test data(actual and predicted points)\n",
        "sns.scatterplot(x=test_x.flatten(), y=test_y.flatten(), label = \"Actual data points\")\n",
        "sns.scatterplot(x=test_x.flatten(),y=predict_y.flatten(), label = \"Predicted data points\")\n",
        "title = plt.title(\"Marks obtained by a student based on the no. of study hours\")\n",
        "plt.xlabel(\"Hours\")\n",
        "plt.ylabel(\"Scores\")\n",
        "plt.setp(title,color ='w')\n",
        "plt.show()"
      ],
      "execution_count": null,
      "outputs": []
    },
    {
      "cell_type": "code",
      "metadata": {
        "id": "YbtUpZt_JML8"
      },
      "source": [
        "#Visualization of the regression line predicted \n",
        "predict_y1= model.predict(x)\n",
        "sns.scatterplot(x=x.flatten(), y=y.flatten(), label = \"Original dataset\")\n",
        "sns.lineplot(x=x.flatten(),y=predict_y1.flatten(), color = \"orange\", label = \"Regression line\")\n",
        "plt.legend()\n",
        "title = plt.title(\"Marks obtained by a student based on the no. of study hours\")\n",
        "plt.xlabel(\"Hours\")\n",
        "plt.ylabel(\"Scores\")\n",
        "plt.setp(title,color ='w')\n",
        "plt.show()"
      ],
      "execution_count": null,
      "outputs": []
    },
    {
      "cell_type": "code",
      "metadata": {
        "id": "rD1Gf4YOJh7V"
      },
      "source": [
        "print('Root Mean Squared Error:', np.sqrt(metrics.mean_squared_error(test_y,predict_y)))\n",
        "print('Accuracy score on test data:', model.score(test_x, test_y))\n",
        "print('Accuracy score on training data:', model.score(train_x, train_y))"
      ],
      "execution_count": null,
      "outputs": []
    },
    {
      "cell_type": "markdown",
      "metadata": {
        "id": "N9ObTXNyo3LE"
      },
      "source": [
        "From the accuracy scores obtained above, it is observed that the model is overfitting the dataset little bit but the overall performance for the model is acceptable."
      ]
    },
    {
      "cell_type": "code",
      "metadata": {
        "id": "5GaTjpjVLifS"
      },
      "source": [
        "hours = [[9.25]]\n",
        "own_pred = model.predict(hours)\n",
        "print(\"Number of Hours = {}\".format(hours))\n",
        "print(\"Predicted Score = {}\".format(own_pred[0]))"
      ],
      "execution_count": null,
      "outputs": []
    }
  ]
}